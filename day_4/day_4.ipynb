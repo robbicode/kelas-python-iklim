{
 "cells": [
  {
   "attachments": {},
   "cell_type": "markdown",
   "metadata": {},
   "source": [
    "# Day 4 🐍\n",
    "# Loop 🔁\n",
    "\n",
    "Untuk melakukan sesuatu di python berulang-ulang kita menggunakan loop. Ada terdapat 2 bentuk loop:\n",
    "1. for\n",
    "2. while\n",
    "\n"
   ]
  },
  {
   "attachments": {},
   "cell_type": "markdown",
   "metadata": {},
   "source": [
    "## range()\n",
    "\n",
    "range digunakan untuk membuat sekuen"
   ]
  },
  {
   "cell_type": "code",
   "execution_count": null,
   "metadata": {},
   "outputs": [],
   "source": [
    "lst = list(range(11)) \n",
    "print(lst)\n",
    "st = set(range(1, 11))\n",
    "print(st)\n",
    "\n",
    "lst = list(range(0,11,2))\n",
    "print(lst)\n",
    "st = set(range(0,11,2))\n",
    "print(st)"
   ]
  },
  {
   "attachments": {},
   "cell_type": "markdown",
   "metadata": {},
   "source": [
    "## 1. for 🐑🐐\n",
    "\n",
    "digunakan untuk melakukan iterasi (pengulangan) melalui sebuah sekuen (contoh: list, tuple, string)\n"
   ]
  },
  {
   "cell_type": "code",
   "execution_count": 1,
   "metadata": {},
   "outputs": [
    {
     "name": "stdout",
     "output_type": "stream",
     "text": [
      "0\n",
      "1\n",
      "2\n",
      "3\n",
      "4\n",
      "5\n",
      "5\n"
     ]
    }
   ],
   "source": [
    "numbers = [0, 1, 2, 3, 4, 5]\n",
    "for number in numbers:\n",
    "    print(number)\n",
    "print(number)"
   ]
  },
  {
   "cell_type": "code",
   "execution_count": null,
   "metadata": {},
   "outputs": [],
   "source": [
    "language = 'Python'\n",
    "for letter in language:\n",
    "    print(letter)\n",
    "\n",
    "\n"
   ]
  },
  {
   "cell_type": "code",
   "execution_count": null,
   "metadata": {},
   "outputs": [],
   "source": [
    "for i in range(len(language)):\n",
    "    print(language[i])"
   ]
  },
  {
   "cell_type": "code",
   "execution_count": null,
   "metadata": {},
   "outputs": [],
   "source": [
    "numbers = (0, 1, 2, 3, 4, 5)\n",
    "for number in numbers:\n",
    "    print(number)"
   ]
  },
  {
   "cell_type": "code",
   "execution_count": null,
   "metadata": {},
   "outputs": [],
   "source": [
    "numbers = (0,1,2,3,4,5)\n",
    "for number in numbers:\n",
    "    print(number)\n",
    "    if number == 3:\n",
    "        break\n",
    "\n",
    "print('break')"
   ]
  },
  {
   "cell_type": "code",
   "execution_count": null,
   "metadata": {},
   "outputs": [],
   "source": [
    "numbers = (0,1,2,3,4,5)\n",
    "for number in numbers:\n",
    "    print(number)\n",
    "    if number == 3:\n",
    "        continue\n",
    "    print('Next number should be ', number + 1) if number != 5 else print(\"loop's end\") # for short hand conditions need both if and else statements\n",
    "print('outside the loop')"
   ]
  },
  {
   "attachments": {},
   "cell_type": "markdown",
   "metadata": {},
   "source": [
    "## 2. while 🐑🐐\n",
    "perintah akan dilakukan selama kondisi benar (True)"
   ]
  },
  {
   "cell_type": "code",
   "execution_count": null,
   "metadata": {},
   "outputs": [],
   "source": [
    "count = 0\n",
    "while count < 5:\n",
    "    print(count)\n",
    "    count = count + 1"
   ]
  },
  {
   "attachments": {},
   "cell_type": "markdown",
   "metadata": {},
   "source": [
    "> blok di atas berhenti ketika count = 5 karena kondisi `False'\n"
   ]
  },
  {
   "attachments": {},
   "cell_type": "markdown",
   "metadata": {},
   "source": [
    "## Nested Loops"
   ]
  },
  {
   "cell_type": "code",
   "execution_count": null,
   "metadata": {},
   "outputs": [],
   "source": [
    "artis = {\n",
    "    'nama': 'Taylor',\n",
    "    'mantans': ['Calvin', 'Tom', 'Jake', 'Joe']\n",
    "}\n",
    "\n",
    "for key in artis:\n",
    "    if key == 'mantans':\n",
    "        for mantan in artis['mantans']:\n",
    "            print(mantan)"
   ]
  },
  {
   "attachments": {},
   "cell_type": "markdown",
   "metadata": {},
   "source": [
    "## Exercises: Level 1\n",
    "1. iterasi dari 0 sampai 10 menggunakan for loop, lakukan juga menggunakan while loop\n",
    "\n",
    "2. iterasi dari 10 sampai 0 menggunakan for loop, lakukan juga menggunakan while loop\n",
    "\n",
    "3. buat loop yang dapat yang melakukan iterasi 7 kali sehingga menampilkan hasil seperti ini:\n",
    "\n",
    "   ```sh\n",
    "     #\n",
    "     ##\n",
    "     ###\n",
    "     ####\n",
    "     #####\n",
    "     ######\n",
    "     #######\n",
    "   ```\n",
    "\n",
    "4. buatlah nested loop sehingga menghasilkan tampilan ini:\n",
    "   ```sh\n",
    "   # # # # # # # #\n",
    "   # # # # # # # #\n",
    "   # # # # # # # #\n",
    "   # # # # # # # #\n",
    "   # # # # # # # #\n",
    "   # # # # # # # #\n",
    "   # # # # # # # #\n",
    "   # # # # # # # #\n",
    "   ```\n",
    "\n",
    "5. Print pola berikut menggunakan loop:\n",
    "   ```sh\n",
    "   0 x 0 = 0\n",
    "   1 x 1 = 1\n",
    "   2 x 2 = 4\n",
    "   3 x 3 = 9\n",
    "   4 x 4 = 16\n",
    "   5 x 5 = 25\n",
    "   6 x 6 = 36\n",
    "   7 x 7 = 49\n",
    "   8 x 8 = 64\n",
    "   9 x 9 = 81\n",
    "   10 x 10 = 100\n",
    "   ```\n",
    "\n",
    "6. lakukan iterasi menggunakan list berikut, ['Python', 'Numpy','Pandas','Django', 'Flask'] dan print itemnya\n",
    "\n",
    "7. gunakan for loop untuk print angka genap antara 0 sampai 100\n",
    "\n",
    "8. gunakan for loop untuk iterasi dari 0 sampai 100 dan hanya print angka ganjil\n",
    "\n",
    "## Exercises: Level 2\n",
    "1. gunakan for loop untuk iterasi 0 sampai 100 dan print jumlah total (sum) semua angka tersebut.\n",
    "   ```sh\n",
    "   The sum of all numbers is 5050.\n",
    "   ```\n",
    "2. gunakan for loop untuk iterasi 0 sampai 100 dan print jumlah total (sum) semua angka genap dan jumlah total (sum) semua angka ganjil.\n",
    "    ```sh\n",
    "    The sum of all evens is 2550. And the sum of all odds is 2500.\n",
    "    ```"
   ]
  },
  {
   "cell_type": "code",
   "execution_count": null,
   "metadata": {},
   "outputs": [],
   "source": [
    "print(list(range(2,100,2)))\n",
    "for i in range(101,1,-1):\n",
    "    print(i)"
   ]
  }
 ],
 "metadata": {
  "kernelspec": {
   "display_name": "data-science",
   "language": "python",
   "name": "python3"
  },
  "language_info": {
   "codemirror_mode": {
    "name": "ipython",
    "version": 3
   },
   "file_extension": ".py",
   "mimetype": "text/x-python",
   "name": "python",
   "nbconvert_exporter": "python",
   "pygments_lexer": "ipython3",
   "version": "3.11.2"
  },
  "orig_nbformat": 4
 },
 "nbformat": 4,
 "nbformat_minor": 2
}
