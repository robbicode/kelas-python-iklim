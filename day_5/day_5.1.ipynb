{
 "cells": [
  {
   "cell_type": "code",
   "execution_count": null,
   "metadata": {},
   "outputs": [],
   "source": []
  },
  {
   "attachments": {},
   "cell_type": "markdown",
   "metadata": {},
   "source": [
    "| Exception      | Description                                                               |\n",
    "|----------------|---------------------------------------------------------------------------|\n",
    "| IndexError     | When the wrong index of a list is retrieved.                              |\n",
    "| AssertionError | It occurs when the assert statement fails                                 |\n",
    "| AttributeError | It occurs when an attribute assignment is failed.                         |\n",
    "| ImportError    | It occurs when an imported module is not found.                           |\n",
    "| KeyError       | It occurs when the key of the dictionary is not found.                    |\n",
    "| NameError      | It occurs when the variable is not defined.                               |\n",
    "| MemoryError    | It occurs when a program runs out of memory.                              |\n",
    "| TypeError      | It occurs when a function and operation are applied in an incorrect type. |\n"
   ]
  }
 ],
 "metadata": {
  "language_info": {
   "name": "python"
  },
  "orig_nbformat": 4
 },
 "nbformat": 4,
 "nbformat_minor": 2
}
