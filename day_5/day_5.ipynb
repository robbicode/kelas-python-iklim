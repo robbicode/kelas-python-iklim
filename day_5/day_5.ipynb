{
 "cells": [
  {
   "attachments": {},
   "cell_type": "markdown",
   "metadata": {},
   "source": [
    "# Day 5\n",
    "## Functions\n",
    "\n",
    "Kita sekarang akan mencoba membuat function\n",
    "\n",
    "> apa itu function? Function adalah sebuah blok atau perintah yang bisa dipakai lagi berulang-ulang.\n",
    "\n",
    "### `def`"
   ]
  },
  {
   "attachments": {},
   "cell_type": "markdown",
   "metadata": {},
   "source": [
    "f(x)=ax+b\n",
    "\n",
    "f(2)=a.5+b\n",
    "f(2)=?"
   ]
  },
  {
   "attachments": {},
   "cell_type": "markdown",
   "metadata": {},
   "source": [
    "## Function with parameters"
   ]
  },
  {
   "cell_type": "code",
   "execution_count": 1,
   "metadata": {},
   "outputs": [],
   "source": [
    "# 1 parameter\n",
    "def salam(nama):\n",
    "    pesan = nama + ', Selamat datang di sini'\n",
    "    print(pesan)"
   ]
  },
  {
   "cell_type": "code",
   "execution_count": 6,
   "metadata": {},
   "outputs": [
    {
     "ename": "NameError",
     "evalue": "name 'pesan' is not defined",
     "output_type": "error",
     "traceback": [
      "\u001b[1;31m---------------------------------------------------------------------------\u001b[0m",
      "\u001b[1;31mNameError\u001b[0m                                 Traceback (most recent call last)",
      "Cell \u001b[1;32mIn[6], line 1\u001b[0m\n\u001b[1;32m----> 1\u001b[0m \u001b[39mprint\u001b[39m(pesan)\n",
      "\u001b[1;31mNameError\u001b[0m: name 'pesan' is not defined"
     ]
    }
   ],
   "source": [
    "print(pesan)"
   ]
  },
  {
   "cell_type": "code",
   "execution_count": 2,
   "metadata": {},
   "outputs": [
    {
     "name": "stdout",
     "output_type": "stream",
     "text": [
      "asoy, Selamat datang di sini\n"
     ]
    }
   ],
   "source": [
    "name = 'asoy'\n",
    "salam(name)"
   ]
  },
  {
   "cell_type": "code",
   "execution_count": 3,
   "metadata": {},
   "outputs": [],
   "source": [
    "# 2 parameter\n",
    "def salam_2(nama, tempat):\n",
    "    pesan = f'{nama}, Selamat datang di {tempat}'\n",
    "    print(pesan)"
   ]
  },
  {
   "cell_type": "code",
   "execution_count": 4,
   "metadata": {},
   "outputs": [
    {
     "name": "stdout",
     "output_type": "stream",
     "text": [
      "Kim, Selamat datang di Jakarta\n"
     ]
    }
   ],
   "source": [
    "nama = 'Kim'\n",
    "kota = 'Jakarta'\n",
    "salam_2(nama, kota)"
   ]
  },
  {
   "attachments": {},
   "cell_type": "markdown",
   "metadata": {},
   "source": [
    "## Function without parameters"
   ]
  },
  {
   "cell_type": "code",
   "execution_count": 5,
   "metadata": {},
   "outputs": [
    {
     "name": "stdout",
     "output_type": "stream",
     "text": [
      "Taylor Alison Swift\n"
     ]
    }
   ],
   "source": [
    "def nama_taylor_swift():\n",
    "    depan = 'Taylor'\n",
    "    tengah = 'Alison'\n",
    "    belakang = 'Swift'\n",
    "    nama = f'{depan} {tengah} {belakang}'\n",
    "    print(nama)\n",
    "\n",
    "nama_taylor_swift()\n"
   ]
  },
  {
   "attachments": {},
   "cell_type": "markdown",
   "metadata": {},
   "source": [
    "## Fuction returning value"
   ]
  },
  {
   "cell_type": "code",
   "execution_count": 21,
   "metadata": {},
   "outputs": [],
   "source": [
    "def tambah(x, y):\n",
    "    total = x + y\n",
    "    return total"
   ]
  },
  {
   "cell_type": "code",
   "execution_count": 18,
   "metadata": {},
   "outputs": [],
   "source": [
    "def tambah(x, y):\n",
    "    return x + y\n"
   ]
  },
  {
   "cell_type": "code",
   "execution_count": 19,
   "metadata": {},
   "outputs": [],
   "source": [
    "hasil = tambah(1,2)"
   ]
  },
  {
   "cell_type": "code",
   "execution_count": 20,
   "metadata": {},
   "outputs": [
    {
     "name": "stdout",
     "output_type": "stream",
     "text": [
      "3\n"
     ]
    }
   ],
   "source": [
    "print(hasil)"
   ]
  },
  {
   "attachments": {},
   "cell_type": "markdown",
   "metadata": {},
   "source": [
    "## Fuction returning more than one value"
   ]
  },
  {
   "cell_type": "code",
   "execution_count": 23,
   "metadata": {},
   "outputs": [],
   "source": [
    "def operasi(x, y):\n",
    "    tambah = x + y\n",
    "    kurang = x - y\n",
    "    return tambah, kurang"
   ]
  },
  {
   "cell_type": "code",
   "execution_count": 25,
   "metadata": {},
   "outputs": [
    {
     "name": "stdout",
     "output_type": "stream",
     "text": [
      "Jumlah = 3, kurang = -1\n"
     ]
    }
   ],
   "source": [
    "a, b = operasi(1,2)\n",
    "print(f'Jumlah = {a}, kurang = {b}')"
   ]
  },
  {
   "attachments": {},
   "cell_type": "markdown",
   "metadata": {},
   "source": [
    "# PR\n",
    "## Level 1\n",
    "1. buatlah function yang dapat konversi suhu dalam °C menjadi °F.\n",
    "2. buat fuction yang mengambil sebuah list dan print masing-masing item di dalam list.\n",
    "3. buat fuction yang mengambil suatu angka sebagai parameter, memasukkannya ke dalam range dan menjumlahkan semua angka di dalam range tersebut.\n",
    "4. buat fuction yang mengambil suatu angka sebagai parameter, memasukkannya ke dalam range dan menjumlahkan semua angka ganjil di dalam range tersebut. Lakukan hal yang sama untuk menjulahkan semua angka genap.\n",
    "\n",
    "## Level 2\n",
    "1. buat fuction yang mengambil suatu angka sebagai parameter, memasukkannya ke dalam range dan menghitung angka genap dan ganjil pada range tersebut.\n",
    "    ```py\n",
    "        print(evens_and_odds(100))\n",
    "        # The number of odds are 50.\n",
    "        # The number of evens are 51.\n",
    "    ```\n",
    "2.  buatlah fuction untuk menghitung faktorial dari sebuah angka\n",
    "\n",
    "## Level 3\n",
    "1. buatlah fuction yang mengecek apakah sebuah bilangan adalah bilangan prima\n",
    "2. buatlah function yang mengecek apakah semua items di dalam list tidak ada yang identik\n",
    "3. buatlah function yang mengecek apakah semua items di dalam list mempunyai type yang sama\n",
    "2. buatlah sebuah function yang mengecek apakah sebuah nama variabel sudah valid di python"
   ]
  }
 ],
 "metadata": {
  "kernelspec": {
   "display_name": "data-science",
   "language": "python",
   "name": "python3"
  },
  "language_info": {
   "codemirror_mode": {
    "name": "ipython",
    "version": 3
   },
   "file_extension": ".py",
   "mimetype": "text/x-python",
   "name": "python",
   "nbconvert_exporter": "python",
   "pygments_lexer": "ipython3",
   "version": "3.11.3"
  },
  "orig_nbformat": 4
 },
 "nbformat": 4,
 "nbformat_minor": 2
}
