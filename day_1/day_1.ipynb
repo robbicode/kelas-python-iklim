{
 "cells": [
  {
   "attachments": {},
   "cell_type": "markdown",
   "metadata": {},
   "source": [
    "# Pengenalan `python` untuk Pemula 🐍\n",
    "\n",
    "Pengenalan singkat mengenai python ini dibuat oleh [BumidanIklim](link).\n",
    "\n",
    "***\n",
    "\n",
    "> **⚠️Timeline🗓️**: Kursus ini akan dilakukan selama **10 pertemuan** yang akan dibagi menjadi **2 sesi**.\n",
    "\n",
    "> **1️⃣Sesi pertama** selama 5 pertemuan pertama akan mempelajari dasar-dasar python.\n",
    "\n",
    "> **2️⃣Sesi kedua** untuk 5 pertemuan selanjutnya akan mempelajari pengunaan python untuk pengolahan data iklim sederhana.\n",
    "\n",
    "> **🕙Timestamp**: Pertemuan berlangsung selama 60 menit dengan pembagian sebagai berikut:\n",
    "> 1. 🧑‍💻30 menit: Materi\n",
    "> 2. 🧑‍💻10 menit: Tanya jawab\n",
    "> 3. 🏠20 menit: Mengerjakan PR\n",
    "\n",
    "***\n",
    "\n",
    "\n"
   ]
  },
  {
   "attachments": {},
   "cell_type": "markdown",
   "metadata": {},
   "source": [
    "# Day 1 🐍\n",
    "## Perkenalan python 👋\n",
    "\n",
    "**Apa itu `python`❓**\n",
    "\n",
    "    python adalah sebuah `bahasa pemograman`\n",
    "\n",
    "**Apa itu bahasa pemograman❓**\n",
    "\n",
    "    Bahasa yang digunakan untuk memberikan perintah kepada komputer \n",
    "\n",
    "\n",
    "![Pembantu](https://itisfixed.com/wp-content/uploads/2018/02/oven-beeping-itisfixed-appliance-repair-atlanta-ga-800x533.jpg)\n",
    "\n",
    "![python](https://blog-c7ff.kxcdn.com/blog/wp-content/uploads/2016/11/Game_deck-18-1-1.jpg)"
   ]
  },
  {
   "attachments": {},
   "cell_type": "markdown",
   "metadata": {},
   "source": [
    "**Mengapa memilih python❓**\n",
    "1. Fleksibel untuk digunakan buat apa aja\n",
    "2. Populer\n",
    "3. Mudah digunakan dan dimengerti"
   ]
  },
  {
   "cell_type": "code",
   "execution_count": 1,
   "metadata": {},
   "outputs": [
    {
     "name": "stdout",
     "output_type": "stream",
     "text": [
      "gigi\n",
      "zayn\n",
      "selena\n",
      "hailey\n",
      "justin\n"
     ]
    }
   ],
   "source": [
    "artis_artis = ['gigi', 'zayn', 'selena', 'hailey', 'justin']\n",
    "for artis in artis_artis:\n",
    "    print(artis)"
   ]
  },
  {
   "attachments": {},
   "cell_type": "markdown",
   "metadata": {},
   "source": [
    "## Dasar-dasar python 🧩\n",
    "\n",
    "\n",
    "\n",
    "\n",
    "\n"
   ]
  },
  {
   "attachments": {},
   "cell_type": "markdown",
   "metadata": {},
   "source": [
    "### function & module♾️\n",
    "1. function itu 'perintah yang digunakan dalam python'\n",
    "2. module itu kumpulan function-function"
   ]
  },
  {
   "cell_type": "code",
   "execution_count": 2,
   "metadata": {},
   "outputs": [
    {
     "name": "stdout",
     "output_type": "stream",
     "text": [
      "     MinTemp  MaxTemp  Rainfall  Evaporation  Sunshine WindGustDir  \\\n",
      "0        8.0     24.3       0.0          3.4       6.3          NW   \n",
      "1       14.0     26.9       3.6          4.4       9.7         ENE   \n",
      "2       13.7     23.4       3.6          5.8       3.3          NW   \n",
      "3       13.3     15.5      39.8          7.2       9.1          NW   \n",
      "4        7.6     16.1       2.8          5.6      10.6         SSE   \n",
      "..       ...      ...       ...          ...       ...         ...   \n",
      "361      9.0     30.7       0.0          7.6      12.1         NNW   \n",
      "362      7.1     28.4       0.0         11.6      12.7           N   \n",
      "363     12.5     19.9       0.0          8.4       5.3         ESE   \n",
      "364     12.5     26.9       0.0          5.0       7.1          NW   \n",
      "365     12.3     30.2       0.0          6.0      12.6          NW   \n",
      "\n",
      "     WindGustSpeed WindDir9am WindDir3pm  WindSpeed9am  ...  Humidity3pm  \\\n",
      "0             30.0         SW         NW           6.0  ...           29   \n",
      "1             39.0          E          W           4.0  ...           36   \n",
      "2             85.0          N        NNE           6.0  ...           69   \n",
      "3             54.0        WNW          W          30.0  ...           56   \n",
      "4             50.0        SSE        ESE          20.0  ...           49   \n",
      "..             ...        ...        ...           ...  ...          ...   \n",
      "361           76.0        SSE         NW           7.0  ...           15   \n",
      "362           48.0        NNW        NNW           2.0  ...           22   \n",
      "363           43.0        ENE        ENE          11.0  ...           47   \n",
      "364           46.0        SSW        WNW           6.0  ...           39   \n",
      "365           78.0         NW        WNW          31.0  ...           13   \n",
      "\n",
      "     Pressure9am  Pressure3pm  Cloud9am  Cloud3pm  Temp9am  Temp3pm  \\\n",
      "0         1019.7       1015.0         7         7     14.4     23.6   \n",
      "1         1012.4       1008.4         5         3     17.5     25.7   \n",
      "2         1009.5       1007.2         8         7     15.4     20.2   \n",
      "3         1005.5       1007.0         2         7     13.5     14.1   \n",
      "4         1018.3       1018.5         7         7     11.1     15.4   \n",
      "..           ...          ...       ...       ...      ...      ...   \n",
      "361       1016.1       1010.8         1         3     20.4     30.0   \n",
      "362       1020.0       1016.9         0         1     17.2     28.2   \n",
      "363       1024.0       1022.8         3         2     14.5     18.3   \n",
      "364       1021.0       1016.2         6         7     15.8     25.9   \n",
      "365       1009.6       1009.2         1         1     23.8     28.6   \n",
      "\n",
      "     RainToday  RISK_MM RainTomorrow  \n",
      "0           No      3.6          Yes  \n",
      "1          Yes      3.6          Yes  \n",
      "2          Yes     39.8          Yes  \n",
      "3          Yes      2.8          Yes  \n",
      "4          Yes      0.0           No  \n",
      "..         ...      ...          ...  \n",
      "361         No      0.0           No  \n",
      "362         No      0.0           No  \n",
      "363         No      0.0           No  \n",
      "364         No      0.0           No  \n",
      "365         No      0.0           No  \n",
      "\n",
      "[366 rows x 22 columns]\n"
     ]
    }
   ],
   "source": [
    "import pandas\n",
    "file = pandas.read_csv(r'weather.csv')\n",
    "print(file)"
   ]
  },
  {
   "attachments": {},
   "cell_type": "markdown",
   "metadata": {},
   "source": [
    "**Built-in Fuction:** function yang sudah ada langsung di dalam python\n",
    "\n",
    "Contohnya: `print(), len(), type(), int(), float(), str(), input(), list(), dict(), min(), max(), sum(), sorted(), open(), file(), help(), and range()`"
   ]
  },
  {
   "attachments": {},
   "cell_type": "markdown",
   "metadata": {},
   "source": [
    "### Virtual Environment\n",
    "\n",
    "**Apa itu virtual environment❓**\n",
    "* `environment:` sistem dengan aplikasi-aplikasi yang sudah terinstall di dalamnya \n",
    "\n",
    "![environment](https://th.bing.com/th/id/R.eb7ccfe752c19217281b98a117593d27?rik=GbIROryaBL4c6w&riu=http%3a%2f%2f4.bp.blogspot.com%2f-HBN-g-dWZek%2fT4-Bz9ZlB-I%2fAAAAAAAAAKM%2fnpWyBn9CYW0%2fs1600%2fwindows-7-screenshot-pricing-announced.jpg&ehk=K63VBP7mO892ZhsZVof8dHxgJmFumSXqHlQJqxYhDQI%3d&risl=&pid=ImgRaw&r=0)\n",
    "\n",
    "* `virtual environment` itu ya environment yang dibagi-bagi\n",
    "\n",
    "![venv](https://th.bing.com/th/id/OIP.nDBKm-ieZ4rxeBiWul6JagHaDD?pid=ImgDet&rs=1)\n",
    "\n",
    "***\n",
    "\n",
    "Emmm terus hubungannya apa sama python❓\n",
    "\n",
    "![python-dough](https://learnbatta.com/assets/images/python/python-virtual-env.png)\n",
    "\n",
    "***\n",
    "\n",
    "Conda 🐍🐍\n",
    ">**environment manager**\n",
    "> 1. Anaconda\n",
    "> 2. Miniconda\n",
    "\n",
    "| Anaconda | Miniconda |\n",
    "| --- | --- |\n",
    "| Berupa aplikasi | Berupa command line |\n",
    "| Berattt | Ringannn |\n",
    "| terinstall IDE | tidak |\n",
    "\n",
    "***"
   ]
  },
  {
   "attachments": {},
   "cell_type": "markdown",
   "metadata": {},
   "source": [
    "![conda dan miniconda](https://miro.medium.com/v2/resize:fit:1200/1*O5Jgl-KFuvUyujAZhXHYlQ.png)"
   ]
  },
  {
   "attachments": {},
   "cell_type": "markdown",
   "metadata": {},
   "source": [
    "### IDE 🧑‍💻\n",
    "**Apa itu IDE?**\n",
    "    Integrated Development Environment\n",
    "\n",
    ">![ides](https://djangostars.com/blog/uploads/2019/09/best-python-ide-and-code-editors2.png)\n",
    "\n",
    "**Mengapa Visual Studio Code?**\n",
    "1. ringan\n",
    "2. mempunyai banyak fungsionalitas\n",
    "3. terintegrasi dengan conda, jupyter, dan windows terminal\n",
    "\n",
    "**Mengapa Jupyter?**\n",
    "1. Interaktif\n",
    "2. Mudah digunakan untuk pembelajaran\n",
    "***"
   ]
  },
  {
   "attachments": {},
   "cell_type": "markdown",
   "metadata": {},
   "source": [
    "## Menginstall Conda dan IDE⚙️\n",
    "### Instalasi IDE📟\n",
    ">Kita akan menggunakan **Visual Studio Code (VSCode)**.\n",
    "1. Installer bisa didownload di [sini](https://code.visualstudio.com/Download)\n",
    "2. Instal seperti program biasa\n",
    "3. Jika muncul ini, centang semua:\n",
    "\n",
    "![vscode](https://ashutoshtripathicom.files.wordpress.com/2021/04/image-19.png)\n",
    "\n",
    "### Instalasi Conda🐛\n",
    ">Kita akan menggunakan **Miniconda**.\n",
    "1. Installer bisa didownload di [sini](https://docs.conda.io/en/latest/miniconda.html)\n",
    "2. Instal seperti program biasa\n",
    "3. Jika muncul ini, centang semua:\n",
    "\n",
    "![miniconda](https://i.stack.imgur.com/WogNs.jpg)\n",
    "\n",
    ">**Note:** Jika terjadi error coba ketik `conda init` di terminal atau ikuti [link](https://answers.microsoft.com/en-us/windows/forum/all/whats-wrong-with-my-windows-powershell/f05e72f2-a429-4ee0-81fb-910c8c8a1306) ini\n",
    "\n",
    "4. Beberapa command conda:\n",
    "> * `conda --version` --> versi conda\n",
    "> * `conda env list` --> list virtual environment yang ada\n",
    "> * `conda list` --> melihat module yang terinstall\n",
    "> * `conda update -n base conda` --> update conda\n",
    "> * `conda create --name myenv` --> membuat virtual environment bernama `myenv`\n",
    "> * `conda activate myenv` --> mengaktifkan virtual environment `myenv` \n",
    "> * `conda deactivate` --> mengonaktifkan virtual environment `myenv`\n",
    "> * `conda env remove --name myenv` --> menghapus virtual environment `myenv`\n",
    "> * `conda install packages-name` --> menginstall module `packages-name`\n",
    "> * `conda update packages-name` --> update module `packages-name`\n",
    "> * `conda remove -n myenv scipy` --> menghapus module `scipy` di `myenv`\n",
    "\n",
    "\n"
   ]
  },
  {
   "attachments": {},
   "cell_type": "markdown",
   "metadata": {},
   "source": [
    "### Setting up Conda\n",
    "Hal yang dilakukan setelah instalasi conda\n",
    "1. membuat virtual environtment baru\n",
    "    1. `conda create --name python-iklim`\n",
    "2. masuk ke environtment tersebut dan mulai menginstall beberapa modul\n",
    "    1. `conda activate python-iklim`\n",
    "    2. `conda install pandas`"
   ]
  },
  {
   "attachments": {},
   "cell_type": "markdown",
   "metadata": {},
   "source": [
    "### Setting Up VSCode\n",
    "Beberapa hal yang perlu disiapkan di vscode untuk mulai menggunakan python adalah\n",
    "1. menginstal extension `python`\n",
    "2. mulai menggunakan python dengan memilih interpreter\n",
    "    - ctrl+shift+p -> ketik intrepeter -> klik `Python: Select Interpreter`\n",
    "\n"
   ]
  },
  {
   "attachments": {},
   "cell_type": "markdown",
   "metadata": {},
   "source": [
    "# PR 📒\n",
    "## conda\n",
    "1. membuat environtment baru menggunakan nama `terserah`\n",
    "2. install beberapa modul\n",
    "3. hapus environtment tersebut\n",
    "\n",
    "## vscode\n",
    "1. install extension jupiter, prettier, live share\n",
    "2. cari tahu fungsi dari extension di no 1\n",
    "3. cari tau fungsi function berikut: `print(), len(), type(), int(), float(), str(), input(), list(), dict(), min(), max(), sum(), sorted(), open(), file(), help(), and range()`"
   ]
  },
  {
   "attachments": {},
   "cell_type": "markdown",
   "metadata": {},
   "source": []
  }
 ],
 "metadata": {
  "kernelspec": {
   "display_name": "web-test",
   "language": "python",
   "name": "python3"
  },
  "language_info": {
   "codemirror_mode": {
    "name": "ipython",
    "version": 3
   },
   "file_extension": ".py",
   "mimetype": "text/x-python",
   "name": "python",
   "nbconvert_exporter": "python",
   "pygments_lexer": "ipython3",
   "version": "3.10.5"
  },
  "orig_nbformat": 4
 },
 "nbformat": 4,
 "nbformat_minor": 2
}
