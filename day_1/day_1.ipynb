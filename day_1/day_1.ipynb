{
 "cells": [
  {
   "attachments": {},
   "cell_type": "markdown",
   "metadata": {},
   "source": [
    "# Pengenalan `python` untuk Pemula 🐍\n",
    "\n",
    "Pengenalan singkat mengenai python ini dibuat oleh [BumidanIklim](link).\n",
    "\n",
    "***\n",
    "\n",
    "> **⚠️Timeline🗓️**: Kursus ini akan dilakukan selama **10 pertemuan** yang akan dibagi menjadi **2 sesi**.\n",
    "\n",
    "> **1️⃣Sesi pertama** selama 5 pertemuan pertama akan mempelajari dasar-dasar python.\n",
    "\n",
    "> **2️⃣Sesi kedua** untuk 5 pertemuan selanjutnya akan mempelajari pengunaan python untuk pengolahan data iklim sederhana.\n",
    "\n",
    "> **🕙Timestamp**: Pertemuan berlangsung selama 60 menit dengan pembagian sebagai berikut:\n",
    "> 1. 🧑‍💻30 menit: Materi\n",
    "> 2. 🧑‍💻10 menit: Tanya jawab\n",
    "> 3. 🏠20 menit: Mengerjakan PR\n",
    "\n",
    "***\n",
    "\n",
    "\n"
   ]
  },
  {
   "attachments": {},
   "cell_type": "markdown",
   "metadata": {},
   "source": [
    "# Day 1 🐍\n",
    "## Perkenalan python 👋\n",
    "\n",
    "**Apa itu `python`❓**\n",
    "\n",
    "    python adalah sebuah `bahasa pemograman`\n",
    "\n",
    "**Apa itu bahasa pemograman❓**\n",
    "\n",
    "    Bahasa yang digunakan untuk memberikan perintah kepada komputer \n",
    "\n",
    "\n",
    "![Pembantu](https://itisfixed.com/wp-content/uploads/2018/02/oven-beeping-itisfixed-appliance-repair-atlanta-ga-800x533.jpg)\n",
    "\n",
    "![python](https://blog-c7ff.kxcdn.com/blog/wp-content/uploads/2016/11/Game_deck-18-1-1.jpg)"
   ]
  },
  {
   "attachments": {},
   "cell_type": "markdown",
   "metadata": {},
   "source": [
    "**Mengapa memilih python❓**\n",
    "1. Fleksibel untuk digunakan buat apa aja\n",
    "2. Populer\n",
    "3. Mudah digunakan dan dimengerti"
   ]
  },
  {
   "cell_type": "code",
   "execution_count": null,
   "metadata": {},
   "outputs": [],
   "source": [
    "artis_artis = ['gigi', 'zayn', 'selena', 'hailey', 'justin']\n",
    "for artis in artis_artis:\n",
    "    print(artis)"
   ]
  },
  {
   "attachments": {},
   "cell_type": "markdown",
   "metadata": {},
   "source": [
    "## Dasar-dasar python 🧩\n",
    "\n",
    "\n",
    "\n",
    "\n",
    "\n"
   ]
  },
  {
   "attachments": {},
   "cell_type": "markdown",
   "metadata": {},
   "source": [
    "### function & module♾️\n",
    "1. function itu 'perintah yang digunakan dalam python'\n",
    "2. module itu kumpulan function-function"
   ]
  },
  {
   "cell_type": "code",
   "execution_count": null,
   "metadata": {},
   "outputs": [],
   "source": [
    "import pandas\n",
    "file = pandas.read_csv(r'weather.csv')\n",
    "print(file)"
   ]
  },
  {
   "attachments": {},
   "cell_type": "markdown",
   "metadata": {},
   "source": [
    "**Built-in Fuction:** function yang sudah ada langsung di dalam python\n",
    "\n",
    "Contohnya: `print(), len(), type(), int(), float(), str(), input(), list(), dict(), min(), max(), sum(), sorted(), open(), file(), help(), and range()`"
   ]
  },
  {
   "attachments": {},
   "cell_type": "markdown",
   "metadata": {},
   "source": [
    "### Virtual Environment\n",
    "\n",
    "**Apa itu virtual environment❓**\n",
    "* `environment:` sistem dengan aplikasi-aplikasi yang sudah terinstall di dalamnya \n",
    "\n",
    "![environment](https://th.bing.com/th/id/R.eb7ccfe752c19217281b98a117593d27?rik=GbIROryaBL4c6w&riu=http%3a%2f%2f4.bp.blogspot.com%2f-HBN-g-dWZek%2fT4-Bz9ZlB-I%2fAAAAAAAAAKM%2fnpWyBn9CYW0%2fs1600%2fwindows-7-screenshot-pricing-announced.jpg&ehk=K63VBP7mO892ZhsZVof8dHxgJmFumSXqHlQJqxYhDQI%3d&risl=&pid=ImgRaw&r=0)\n",
    "\n",
    "* `virtual environment` itu ya environment yang dibagi-bagi\n",
    "\n",
    "![venv](https://th.bing.com/th/id/OIP.nDBKm-ieZ4rxeBiWul6JagHaDD?pid=ImgDet&rs=1)\n",
    "\n",
    "***\n",
    "\n",
    "Emmm terus hubungannya apa sama python❓\n",
    "\n",
    "![python-dough](\\raw-dough.png)\n",
    "\n",
    "***\n",
    "\n",
    "Conda 🐍🐍\n",
    ">**environment manager**\n",
    "> 1. Anaconda\n",
    "> 2. Miniconda\n",
    "\n",
    "| Anaconda | Miniconda |\n",
    "| --- | --- |\n",
    "| Berupa aplikasi | Berupa command line |\n",
    "| Berattt | Ringannn |\n",
    "| terinstall IDE | tidak |\n",
    "\n",
    "***"
   ]
  },
  {
   "attachments": {},
   "cell_type": "markdown",
   "metadata": {},
   "source": [
    "### IDE 🧑‍💻\n",
    "**Apa itu IDE?**\n",
    "    Integrated Development Environment\n",
    "\n",
    ">![ides](https://djangostars.com/blog/uploads/2019/09/best-python-ide-and-code-editors2.png)\n",
    "\n",
    "**Mengapa Visual Studio Code?**\n",
    "1. ringan\n",
    "2. mempunyai banyak fungsionalitas\n",
    "3. terintegrasi dengan conda, jupyter, dan windows terminal\n",
    "\n",
    "**Mengapa Jupyter?**\n",
    "1. Interaktif\n",
    "2. Mudah digunakan untuk pembelajaran\n",
    "***"
   ]
  },
  {
   "attachments": {},
   "cell_type": "markdown",
   "metadata": {},
   "source": [
    "## Menginstall Conda dan IDE⚙️\n",
    "### Instalasi IDE📟\n",
    ">Kita akan menggunakan **Visual Studio Code (VSCode)**.\n",
    "1. Installer bisa didownload di [sini](https://code.visualstudio.com/Download)\n",
    "2. Instal seperti program biasa\n",
    "3. Jika muncul ini, centang semua:\n",
    "\n",
    "![vscode](https://ashutoshtripathicom.files.wordpress.com/2021/04/image-19.png)\n",
    "\n",
    "4. Instal beberapa extension: python, jupyter, prettier\n",
    "\n",
    "### Instalasi Conda🐛\n",
    ">Kita akan menggunakan **Miniconda**.\n",
    "1. Installer bisa didownload di [sini](https://docs.conda.io/en/latest/miniconda.html)\n",
    "2. Instal seperti program biasa\n",
    "3. Jika muncul ini, centang semua:\n",
    "\n",
    "![miniconda](https://i.stack.imgur.com/WogNs.jpg)\n",
    "\n",
    ">**Note:** Jika terjadi error coba ketik `conda init` di terminal atau ikuti [link](https://answers.microsoft.com/en-us/windows/forum/all/whats-wrong-with-my-windows-powershell/f05e72f2-a429-4ee0-81fb-910c8c8a1306) ini\n",
    "\n",
    "4. Beberapa command conda:\n",
    "> * `conda --version` --> versi conda\n",
    "> * `conda env list` --> list virtual environment yang ada\n",
    "> * `conda list` --> melihat module yang terinstall\n",
    "> * `conda update -n base conda` --> update conda\n",
    "> * `conda create --name myenv` --> membuat virtual environment bernama `myenv`\n",
    "> * `conda activate myenv` --> mengaktifkan virtual environment `myenv` \n",
    "> * `conda deactivate` --> mengonaktifkan virtual environment `myenv`\n",
    "> * `conda env remove --name myenv` --> menghapus virtual environment `myenv`\n",
    "> * `conda install packages-name` --> menginstall module `packages-name`\n",
    "> * `conda update packages-name` --> update module `packages-name`\n",
    "> * `conda remove -n myenv scipy` --> menghapus module `scipy` di `myenv`\n",
    "\n",
    "\n"
   ]
  },
  {
   "attachments": {},
   "cell_type": "markdown",
   "metadata": {},
   "source": [
    "### Setting up Conda\n",
    "Hal yang dilakukan setelah instalasi conda\n",
    "1. membuat virtual environtment baru\n",
    "    1. `conda create --name python-iklim`\n",
    "2. masuk ke environtment tersebut dan mulai menginstall beberapa modul\n",
    "    1. `conda activate python-iklim`\n",
    "    2. `conda install pandas`"
   ]
  },
  {
   "attachments": {},
   "cell_type": "markdown",
   "metadata": {},
   "source": [
    "### Setting Up VSCode\n",
    "Beberapa hal yang perlu disiapkan di vscode untuk mulai menggunakan python adalah\n",
    "1. menginstal extension `python`\n",
    "2. mulai menggunakan python dengan memilih interpreter\n",
    "    - ctrl+shift+p -> ketik intrepeter -> klik `Python: Select Interpreter`\n",
    "\n"
   ]
  },
  {
   "attachments": {},
   "cell_type": "markdown",
   "metadata": {},
   "source": [
    "# PR 📒\n",
    "## conda\n",
    "1. membuat environtment baru menggunakan nama `terserah`\n",
    "2. install beberapa modul\n",
    "3. hapus environtment tersebut\n",
    "\n",
    "## vscode\n",
    "1. install extension jupiter, prettier, live share\n",
    "2. cari tahu fungsi dari extension tersebut"
   ]
  },
  {
   "attachments": {},
   "cell_type": "markdown",
   "metadata": {},
   "source": [
    "https://github.com/robbicode/python-data-iklim/blob/master/README.md"
   ]
  }
 ],
 "metadata": {
  "kernelspec": {
   "display_name": "web-test",
   "language": "python",
   "name": "python3"
  },
  "language_info": {
   "codemirror_mode": {
    "name": "ipython",
    "version": 3
   },
   "file_extension": ".py",
   "mimetype": "text/x-python",
   "name": "python",
   "nbconvert_exporter": "python",
   "pygments_lexer": "ipython3",
   "version": "3.11.2"
  },
  "orig_nbformat": 4
 },
 "nbformat": 4,
 "nbformat_minor": 2
}
