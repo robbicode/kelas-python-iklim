{
 "cells": [
  {
   "attachments": {},
   "cell_type": "markdown",
   "metadata": {},
   "source": [
    "# Day 2 🐍\n",
    "\n",
    "## Variable\n",
    "\n",
    "Aturan variable di python\n",
    "\n",
    "- harus diawali dengan huruf atau _underscore_\n",
    "- tidak boleh diawali dengan angka\n",
    "- hanya bisa menggunakan = A-z, 0-9, \\_ \n",
    "- case-sensitive ((firstname, Firstname, FirstName dan FIRSTNAME) mereka adalah variabel yang berbeda)\n",
    "\n",
    "contoh variable yang benar\n",
    "\n",
    "```shell\n",
    "firstname\n",
    "lastname\n",
    "age\n",
    "country\n",
    "city\n",
    "first_name\n",
    "last_name\n",
    "capital_city\n",
    "_if\n",
    "year_2021\n",
    "year2021\n",
    "current_year_2021\n",
    "birth_year\n",
    "num1\n",
    "num2\n",
    "```\n",
    "\n",
    "contoh variable yang salah\n",
    "\n",
    "```shell\n",
    "first-name\n",
    "first@name\n",
    "first$name\n",
    "num-1\n",
    "1num\n",
    "```"
   ]
  },
  {
   "attachments": {},
   "cell_type": "markdown",
   "metadata": {},
   "source": [
    "## Tipe Data\n",
    "\n",
    "| Tipe Data   | Contoh                   | Penjelasan                                                                        |\n",
    "|-------------|--------------------------|-----------------------------------------------------------------------------------|\n",
    "| String      | `\"Ayo belajar Python\"`   | Menyatakan karakter/kalimat bisa berupa huruf angka, dll (diapit tanda \" atau ')  |\n",
    "| Integer     | `25` atau `1209`         | Menyatakan bilangan bulat                                                         |\n",
    "| Float       | `3.14` atau `0.99`       | Menyatakan bilangan yang mempunyai koma                                           |\n",
    "| Hexadecimal | `9a` atau `1d3`          | Menyatakan bilangan dalam format heksa (bilangan berbasis 16)                     |\n",
    "| Complex     | `1 + 5j`                 | Menyatakan pasangan angka real dan imajiner                                       |\n",
    "| List        | `['xyz', 786, 2.23]`     | Data untaian yang menyimpan berbagai tipe data dan isinya bisa diubah-ubah        |\n",
    "| Tuple       | `('xyz', 768, 2.23)`     | Data untaian yang menyimpan berbagai tipe data tapi isinya tidak bisa diubah      |\n",
    "| Dictionary  | `{'nama': 'adi','id':2}` | Data untaian yang menyimpan berbagai tipe data berupa pasangan penunjuk dan nilai |\n",
    "| Boolean     | `True` atau `False`      | Menyatakan benar `True` yang bernilai `1`, atau salah `False` yang bernilai `0`   |\n",
    "\n",
    "\n",
    "\n"
   ]
  },
  {
   "cell_type": "code",
   "execution_count": null,
   "metadata": {},
   "outputs": [],
   "source": [
    "peserta = {'nama':'adi', \n",
    "            'id':2}\n",
    "print(peserta)\n",
    "type(peserta)"
   ]
  },
  {
   "cell_type": "code",
   "execution_count": null,
   "metadata": {},
   "outputs": [],
   "source": [
    "a = [1, 2, 4]\n",
    "b = (1, 2, 4)\n",
    "print(a == b)"
   ]
  },
  {
   "cell_type": "code",
   "execution_count": null,
   "metadata": {},
   "outputs": [],
   "source": [
    "# Variables in Python\n",
    "\n",
    "nama_lengkap = 'Selena Gomez'\n",
    "negara = 'United States'\n",
    "kota = 'Los Angeles'\n",
    "umur = 30\n",
    "tinggi_badan_meter = 1.65\n",
    "menikah = False\n",
    "skills = ['HTML', 'CSS', 'JS', 'React', 'Python']\n",
    "info = {\n",
    "        'pacar':'Zayn', \n",
    "        'sahabat':'Taylor Swift', \n",
    "        'mantan':'Justin Bieber',\n",
    "        'musuh':'Hailey Bieber'\n",
    "}\n",
    "\n",
    "# Printing the values stored in the variables\n",
    "\n",
    "print('nama lengkap:', nama_lengkap)\n",
    "print('panjang nama lengkap:', len(nama_lengkap))\n",
    "print('negara: ' + negara)\n",
    "print(f'kota: {kota}')\n",
    "print(f'umur:{umur}')\n",
    "print(f'tinggi badan (meter): {tinggi_badan_meter}')\n",
    "print(f'menikah: {menikah}')\n",
    "print(f'Skills: {skills}')\n",
    "print(f'Informasi lain: {info}')\n",
    "\n",
    "# checking the data type\n",
    "\n",
    "print(type(nama_lengkap))\n",
    "print(type(negara))\n",
    "print(type(kota))\n",
    "print(type(umur))\n",
    "print(type(tinggi_badan_meter))\n",
    "print(type(skills))\n",
    "print(type(info))"
   ]
  },
  {
   "attachments": {},
   "cell_type": "markdown",
   "metadata": {},
   "source": [
    "## Operator"
   ]
  },
  {
   "cell_type": "code",
   "execution_count": null,
   "metadata": {},
   "outputs": [],
   "source": [
    "print(2 + 3)   # addition(+)\n",
    "print(3 - 1)   # subtraction(-)\n",
    "print(2 * 3)   # multiplication(*)\n",
    "print(3 / 2)   # division(/)\n",
    "print(3 ** 2)  # exponential(**)\n",
    "print(3 % 2)   # modulus(%)\n",
    "print(3 // 2)  # Floor division operator(//)"
   ]
  },
  {
   "attachments": {},
   "cell_type": "markdown",
   "metadata": {},
   "source": [
    "![division](https://i.ytimg.com/vi/mv5uHSXLkhs/maxresdefault.jpg)"
   ]
  },
  {
   "cell_type": "code",
   "execution_count": null,
   "metadata": {},
   "outputs": [],
   "source": [
    "print(3 > 2)    \n",
    "print(3 >= 2)   \n",
    "print(3 < 2)     \n",
    "print(2 < 3)     \n",
    "print(2 <= 3)    \n",
    "print(3 == 2)    \n",
    "print(3 != 2)    "
   ]
  },
  {
   "cell_type": "markdown",
   "metadata": {},
   "source": [
    "| Operator | Keterangan |\n",
    "|----------|----------------------------|\n",
    "|is, is not|\tIdentitas |\n",
    "|in, not in|\tMembership (Keanggotaan) |\n",
    "|not, or, and|\tLogika |"
   ]
  },
  {
   "cell_type": "code",
   "execution_count": null,
   "metadata": {},
   "outputs": [],
   "source": [
    "a = 5\n",
    "b = 6\n",
    "print(a is b)\n",
    "print(a is not b)\n",
    "print('-----------------')\n",
    "\n",
    "a_list = [1, 2, 3, 4, 5]\n",
    "print(a in a_list)\n",
    "print(b not in a_list)\n",
    "print('-----------------')\n",
    "\n",
    "\n",
    "\n"
   ]
  },
  {
   "attachments": {},
   "cell_type": "markdown",
   "metadata": {},
   "source": [
    "## List\n",
    "\n"
   ]
  },
  {
   "cell_type": "code",
   "execution_count": null,
   "metadata": {},
   "outputs": [],
   "source": [
    "lst = []\n",
    "lst2 = list()\n",
    "fruits = ['banana', 'orange', 'mango', 'lemon']"
   ]
  },
  {
   "cell_type": "code",
   "execution_count": null,
   "metadata": {},
   "outputs": [],
   "source": [
    "\n",
    "jumlah = len(fruits)\n",
    "first_fruit = fruits[0]\n",
    "print(first_fruit)\n",
    "second_fruit = fruits[1]\n",
    "print(second_fruit)\n",
    "last_fruit = fruits[3]\n",
    "print(last_fruit)\n",
    "last_fruit = fruits[-1]\n",
    "second_last = fruits[-2]\n",
    "print(last_fruit)       \n",
    "print(second_last)\n",
    "all_fruits = fruits[0:4] \n",
    "all_fruits = fruits[0:]\n",
    "orange_and_mango = fruits[1:3]\n",
    "orange_mango_lemon = fruits[1:]\n",
    "does_exist = 'banana' in fruits\n",
    "print(does_exist)\n",
    "\n"
   ]
  },
  {
   "attachments": {},
   "cell_type": "markdown",
   "metadata": {},
   "source": [
    "# PR \n",
    "## Level 1\n",
    "r dari sebuah lingkaran adalah 30 meter.\n",
    "1. hitung luas dari lingkaran dan masukkan nilainya di variabel dengan nama luas lingkaran\n",
    "2. hitung keliling dari lingkaran dan masukkan nilainya di variabel dengan nama keliling lingkaran\n",
    "3. gunakan r berbeda untuk menghitung luas lingkaran\n",
    "\n",
    "## Level 2\n",
    "1. nyatakan umur anda sebagai variabel integer\n",
    "2. nyatakan tinggi badan anda sebagai variabel float\n",
    "3. nyatakan sebuah\n",
    "4. hitung nilai dari y (y=x^2 + 6x + 9). Coba gunakan beberapa niali x berbeda untuk menemukan x saat y = 0\n",
    "5. Bilangan genap dapat dibagi 2 dengan sisa 0. Bagaimana cara mengetahui jika sebuah angka adalah genap?\n",
    "6. Cek apakah floor division dari 7 bagi 3 sama dengan interger dari 2.7? (True or False)\n",
    "7. Cek apakah tipe dari '10' sama dengan tipe dari 10\n",
    "8. Cek apakah int('9.8') sama dengan 10\n",
    "\n",
    "## Level 3\n",
    "1. nyatakan sebuah list kosong\n",
    "2. nyatakan sebuah list dengan lebih dari 5 item\n",
    "3. temukan panjang dari list kamu\n",
    "4. ambil item pertama, item yang di tengah, dan item terakhir\n",
    "5. nyatakan sebuah list bernama perusahaan_it berisi Facebook, Google, Microsoft, Apple, IBM, Oracle dan Amazon\n",
    "6. Print list\n",
    "7. Print jumlah perusahaan\n",
    "8. Print item pertama, item yang di tengah, dan item terakhir\n",
    "9. Tambahakan satu perusahaan IT ke list\n",
    "10. Masukkan satu perusahaan IT ke tengah list"
   ]
  },
  {
   "attachments": {},
   "cell_type": "markdown",
   "metadata": {},
   "source": [
    "Sources:\n",
    "- https://github.com/Asabeneh/30-Days-Of-Python\n",
    "- https://belajarpython.com/tutorial/tipe-data-python/"
   ]
  }
 ],
 "metadata": {
  "kernelspec": {
   "display_name": "data-science",
   "language": "python",
   "name": "python3"
  },
  "language_info": {
   "codemirror_mode": {
    "name": "ipython",
    "version": 3
   },
   "file_extension": ".py",
   "mimetype": "text/x-python",
   "name": "python",
   "nbconvert_exporter": "python",
   "pygments_lexer": "ipython3",
   "version": "3.11.2"
  },
  "orig_nbformat": 4
 },
 "nbformat": 4,
 "nbformat_minor": 2
}
