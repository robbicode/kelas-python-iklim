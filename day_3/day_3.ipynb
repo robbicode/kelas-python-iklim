{
 "cells": [
  {
   "attachments": {},
   "cell_type": "markdown",
   "metadata": {},
   "source": [
    "# Day 3 🐍\n",
    "# Conditions ❔❓\n",
    "\n",
    "Python berjalan dari atas ke bawah. Kalo ada logika yang perlu dipakai maka ada dua cara untuk menjalankannya:\n",
    "1. Conditional execution: Suatu blok akan berjalan kalau kondisi bernilai benar (`True`) --> if elif else\n",
    "2. Repetitive execution: Suatu blok akan berjalan berulang-ulang kalau bernilai benar (`True`) --> loops"
   ]
  },
  {
   "attachments": {},
   "cell_type": "markdown",
   "metadata": {},
   "source": [
    "## If ▶️\n",
    "`if` dipakai untuk menjalankan program apabila kondisi benar (`True`)"
   ]
  },
  {
   "cell_type": "code",
   "execution_count": 9,
   "metadata": {},
   "outputs": [
    {
     "name": "stdout",
     "output_type": "stream",
     "text": [
      "Tidak berhubungan dengan if\n"
     ]
    }
   ],
   "source": [
    "a = 3\n",
    "if a > 0:\n",
    "    print('A adalah bilangan positif')\n",
    "    print('A bernilai lebih dari nol')\n",
    "\n",
    "print('Tidak berhubungan dengan if')"
   ]
  },
  {
   "attachments": {},
   "cell_type": "markdown",
   "metadata": {},
   "source": [
    "## Else ⏸️\n",
    "\n",
    "`else` dipakai untuk menjalankan program apabila kondisi salah (`False`)"
   ]
  },
  {
   "cell_type": "code",
   "execution_count": 13,
   "metadata": {},
   "outputs": [
    {
     "name": "stdout",
     "output_type": "stream",
     "text": [
      "A adalah bilangan positif\n"
     ]
    }
   ],
   "source": [
    "a = 3\n",
    "if a > 0:\n",
    "    print('A adalah bilangan positif')\n",
    "else:\n",
    "    print('A adalah bilangan negatif')"
   ]
  },
  {
   "attachments": {},
   "cell_type": "markdown",
   "metadata": {},
   "source": [
    "## Elif (Else If) ⏯️\n",
    "\n",
    "`elif` digunakan untuk beberapa kondisi\n",
    "\n"
   ]
  },
  {
   "cell_type": "code",
   "execution_count": 16,
   "metadata": {},
   "outputs": [
    {
     "name": "stdout",
     "output_type": "stream",
     "text": [
      "A adalah bilangan negatif\n"
     ]
    }
   ],
   "source": [
    "a = -3\n",
    "if a > 0:\n",
    "    print('A adalah bilangan positif')\n",
    "elif a < 0:\n",
    "    print('A adalah bilangan negatif')\n",
    "else:\n",
    "    print('A adalah nol')"
   ]
  },
  {
   "attachments": {},
   "cell_type": "markdown",
   "metadata": {},
   "source": [
    "# Nested Condition 🦅🕊️🐦\n",
    "If yang bersarang"
   ]
  },
  {
   "cell_type": "code",
   "execution_count": 20,
   "metadata": {},
   "outputs": [
    {
     "name": "stdout",
     "output_type": "stream",
     "text": [
      "A adalah bilangan positif dan genap\n"
     ]
    }
   ],
   "source": [
    "a = 4\n",
    "if a > 0:\n",
    "    if a % 2 == 0:\n",
    "        print('A adalah bilangan positif dan genap')\n",
    "    else:\n",
    "        print('A adalah bilangan positif')\n",
    "elif a == 0:\n",
    "    print('A adalah nol')\n",
    "else:\n",
    "    print('A adalah bilangan negatif')"
   ]
  },
  {
   "attachments": {},
   "cell_type": "markdown",
   "metadata": {},
   "source": [
    "Kita bisa menghindari if bersarang dengan pakai `and`"
   ]
  },
  {
   "cell_type": "code",
   "execution_count": 25,
   "metadata": {},
   "outputs": [
    {
     "name": "stdout",
     "output_type": "stream",
     "text": [
      "A adalah bilangan positif dan genap\n"
     ]
    }
   ],
   "source": [
    "a = 6\n",
    "if a > 0 and a % 2 == 0:\n",
    "        print('A adalah bilangan positif dan genap')\n",
    "elif a > 0 and a % 2 !=  0:\n",
    "     print('A adalah bilangan positif')\n",
    "elif a == 0:\n",
    "    print('A adalah nol')\n",
    "else:\n",
    "    print('A adalah bilangan negatif')"
   ]
  },
  {
   "attachments": {},
   "cell_type": "markdown",
   "metadata": {},
   "source": [
    "### If dengan `or`"
   ]
  },
  {
   "cell_type": "code",
   "execution_count": 28,
   "metadata": {},
   "outputs": [
    {
     "name": "stdout",
     "output_type": "stream",
     "text": [
      "Access granted!\n"
     ]
    }
   ],
   "source": [
    "user = 'James'\n",
    "access_level = 10\n",
    "if user == 'admin' or access_level >= 4:\n",
    "        print('Access granted!')\n",
    "else:\n",
    "    print('Access denied!')"
   ]
  },
  {
   "attachments": {},
   "cell_type": "markdown",
   "metadata": {},
   "source": [
    "# PR\n",
    "## Level 1\n",
    "1. Buatlah input \"Masukkan umur:\". Jika umur lebih dari sama dengan 18, print \"sudah cukup umur untuk mengemudi\". Jika umur kurang dari 18, print berapa tahun lagi sampai dia bisa mengemudi.\n",
    "2. Buatlah dua input a dan b. Jika a lebih besar dari b print 'a lebih besar dari b', print juga untuk kondisi a lebih kecil dari b dan a sama dengan b.\n",
    "\n",
    "## Level 2\n",
    "1. buatlah kode yang memberikan nilai kepada murid berdasarkan:\n",
    "    ```sh\n",
    "    80-100, A\n",
    "    70-89, B\n",
    "    60-69, C\n",
    "    50-59, D\n",
    "    0-49, F\n",
    "    ```\n",
    "2. nyatakan variabel bulan, cek jika bulan:\n",
    "    - Mei - September, musimnya adalah kemarau\n",
    "    - Oktober - April, musimnya hujan\n",
    "    \n",
    "3. nyatakan sebuah variabel buah dan sebuah list buah-buahan.\n",
    "    ```sh\n",
    "    buah_buahan = ['pisang', 'jeruk', 'mangga']\n",
    "    ```\n",
    "    jika buah tidak ada di dalam list maka masukkan kedalam list. Jika buah sudah ada di dalam list print('buah sudah ada di dalam list')\n",
    "\n"
   ]
  }
 ],
 "metadata": {
  "kernelspec": {
   "display_name": "data-science",
   "language": "python",
   "name": "python3"
  },
  "language_info": {
   "codemirror_mode": {
    "name": "ipython",
    "version": 3
   },
   "file_extension": ".py",
   "mimetype": "text/x-python",
   "name": "python",
   "nbconvert_exporter": "python",
   "pygments_lexer": "ipython3",
   "version": "3.10.5"
  },
  "orig_nbformat": 4
 },
 "nbformat": 4,
 "nbformat_minor": 2
}
