{
 "cells": [
  {
   "attachments": {},
   "cell_type": "markdown",
   "metadata": {},
   "source": [
    "# Week 2 🐍🐍\n",
    "Pada minggu ke-2 ini kita akan mencoba menerapkan yang kita pelajari dalam sebuah projek sederhana.\n",
    "\n",
    "Selama sesi ini kita akan menganalisis sebuah data iklim berformat csv dan mencoba menganalisisnya menggunakan python\n",
    "\n",
    "Projek ini bertujuan untuk mengetahui korelasi antara curah hujan di suatu tempat dengan indeks Enso\n"
   ]
  },
  {
   "attachments": {},
   "cell_type": "markdown",
   "metadata": {},
   "source": [
    "> Pertama, buka vscode terus jelasin cara buka jupiter dan jelasin dikit apa itu jupiter"
   ]
  },
  {
   "attachments": {},
   "cell_type": "markdown",
   "metadata": {},
   "source": [
    "## Data Series dan DataFrame\n",
    "Apa itu series?\n",
    "- series adalah data satu dimensi dengan indeks\n",
    "\n",
    "Apa itu dataframe?\n",
    "- dataframe adalah beberapa series dengan sejumlah kolom dan baris.\n",
    "\n",
    "![dataframe](https://storage.googleapis.com/lds-media/images/series-and-dataframe.width-1200.png)"
   ]
  },
  {
   "attachments": {},
   "cell_type": "markdown",
   "metadata": {},
   "source": [
    "## Data Understanding"
   ]
  },
  {
   "cell_type": "code",
   "execution_count": null,
   "metadata": {},
   "outputs": [],
   "source": [
    "# import libraries\n",
    "import pandas as pd"
   ]
  },
  {
   "cell_type": "code",
   "execution_count": null,
   "metadata": {},
   "outputs": [],
   "source": [
    "# membaca data\n",
    "enso_df = pd.read_csv(r'\\data\\ENSO_w_nans_prec.csv')\n",
    "enso_df.head()\n",
    "enso_df.tail()"
   ]
  },
  {
   "cell_type": "code",
   "execution_count": null,
   "metadata": {},
   "outputs": [],
   "source": [
    "# melihat kolom\n",
    "enso_df.columns"
   ]
  },
  {
   "cell_type": "code",
   "execution_count": null,
   "metadata": {},
   "outputs": [],
   "source": [
    "# informasi singkat\n",
    "enso_df.info()"
   ]
  },
  {
   "cell_type": "code",
   "execution_count": null,
   "metadata": {},
   "outputs": [],
   "source": [
    "# melihat jumlah nan\n",
    "enso_df.isna().sum(axis=0) #by default the axis=0"
   ]
  },
  {
   "attachments": {},
   "cell_type": "markdown",
   "metadata": {},
   "source": [
    "## Data Pre-processing"
   ]
  },
  {
   "cell_type": "code",
   "execution_count": null,
   "metadata": {},
   "outputs": [],
   "source": [
    "# mengubah nama kolom\n",
    "enso_df.rename(columns={'Precipitation (mm/day)':'Precipitation'})\n",
    "enso_df = enso_df.rename(columns={'Precipitation (mm/day)':'Precipitation'}) #timpa"
   ]
  },
  {
   "cell_type": "code",
   "execution_count": null,
   "metadata": {},
   "outputs": [],
   "source": [
    "enso_df.info()"
   ]
  },
  {
   "cell_type": "code",
   "execution_count": null,
   "metadata": {},
   "outputs": [],
   "source": [
    "#melihat deskripsi singkat\n",
    "enso_df.describe()"
   ]
  },
  {
   "cell_type": "code",
   "execution_count": null,
   "metadata": {},
   "outputs": [],
   "source": [
    "# mengubah tipe data kolom\n",
    "enso_df = enso_df.astype({\n",
    "                'Month': str, \n",
    "                'Season': str, \n",
    "                'ONI': float, \n",
    "                'NINO 1+2 SST': float,\n",
    "                'NINO 1+2 SST Anomalies': float, \n",
    "                'NINO 3 SST': float, \n",
    "                'NINO 3 SST Anomalies': float, \n",
    "                'NINO 3.4 SST': float, \n",
    "                'NINO 3.4 SST Anomalies': float, \n",
    "                'NINO 4 SST': float, \n",
    "                'NINO 4 SST Anomalies': float, \n",
    "                'OLR': float, \n",
    "                'Precipitation' : float,\n",
    "                'TNI': float,\n",
    "             })\n",
    "enso_df.info()"
   ]
  },
  {
   "cell_type": "code",
   "execution_count": null,
   "metadata": {},
   "outputs": [],
   "source": [
    "enso_df.describe()"
   ]
  },
  {
   "cell_type": "code",
   "execution_count": null,
   "metadata": {},
   "outputs": [],
   "source": [
    "# mengubah data hujan (mean to monthly)\n",
    "enso_df['Precipitation']=enso_df['Precipitation']*30"
   ]
  },
  {
   "cell_type": "code",
   "execution_count": null,
   "metadata": {},
   "outputs": [],
   "source": [
    "enso_df.describe()"
   ]
  },
  {
   "cell_type": "code",
   "execution_count": null,
   "metadata": {},
   "outputs": [],
   "source": [
    "# menghapus nan\n",
    "# nan di tahun sebelum 1982 dan setelah tahun 2021\n",
    "enso_df = enso_df.query('Year > 1981 and Year < 2022')"
   ]
  },
  {
   "cell_type": "code",
   "execution_count": null,
   "metadata": {},
   "outputs": [],
   "source": [
    "enso_df.isna().sum()"
   ]
  },
  {
   "cell_type": "code",
   "execution_count": null,
   "metadata": {},
   "outputs": [],
   "source": [
    "import numpy as np"
   ]
  },
  {
   "cell_type": "code",
   "execution_count": null,
   "metadata": {},
   "outputs": [],
   "source": [
    "# mencari lokasi nan\n",
    "np.where(enso_df.isnull())"
   ]
  },
  {
   "cell_type": "code",
   "execution_count": null,
   "metadata": {},
   "outputs": [],
   "source": [
    "# mencari lokasi nan di kolom precipitation\n",
    "np.where(enso_df['Precipitation'].isnull())"
   ]
  },
  {
   "cell_type": "code",
   "execution_count": null,
   "metadata": {},
   "outputs": [],
   "source": [
    "enso_df.columns[4:]"
   ]
  },
  {
   "cell_type": "code",
   "execution_count": null,
   "metadata": {},
   "outputs": [],
   "source": [
    "# handling missing values\n",
    "## menghitung rata-rata bulanan\n",
    "mean_month = enso_df.groupby('Month')[enso_df.columns[4:]].transform('mean')\n",
    "\n",
    "# mengisi missing values\n",
    "enso_df = enso_df.fillna(mean_month)\n",
    "\n"
   ]
  },
  {
   "cell_type": "code",
   "execution_count": null,
   "metadata": {},
   "outputs": [],
   "source": [
    "# jumlah missing values\n",
    "enso_df.isna().sum()"
   ]
  },
  {
   "cell_type": "code",
   "execution_count": null,
   "metadata": {},
   "outputs": [],
   "source": [
    "enso_df.info()"
   ]
  },
  {
   "attachments": {},
   "cell_type": "markdown",
   "metadata": {},
   "source": [
    "## Data Visualization"
   ]
  },
  {
   "cell_type": "code",
   "execution_count": null,
   "metadata": {},
   "outputs": [],
   "source": [
    "# import module\n",
    "import seaborn \n",
    "import matplotlib"
   ]
  },
  {
   "cell_type": "code",
   "execution_count": null,
   "metadata": {},
   "outputs": [],
   "source": [
    "# membuat list indicator (yang akan digambar)\n",
    "indicators = enso_df.columns[4:]\n",
    "print(indicators)"
   ]
  },
  {
   "cell_type": "code",
   "execution_count": null,
   "metadata": {},
   "outputs": [],
   "source": [
    "# heatmap for correlation analysis\n",
    "plt.figure(figsize=(15,10))\n",
    "sns.heatmap(df[indicators].corr(), square=True, annot=True, linewidths=.5, cmap=\"pink_r\")\n",
    "plt.title(\"Variables Correlation\")\n",
    "plt.show()"
   ]
  },
  {
   "cell_type": "code",
   "execution_count": null,
   "metadata": {},
   "outputs": [],
   "source": [
    "# set index\n",
    "df.set_index('Date', inplace = True)\n",
    "df"
   ]
  },
  {
   "cell_type": "code",
   "execution_count": null,
   "metadata": {},
   "outputs": [],
   "source": [
    "# contoh-contoh menggambar yang lain\n",
    "## menggambar dua sumbu y\n",
    "x = enso_df.index\n",
    "y1 = enso_df.Precipitation\n",
    "y2 = enso_df['NINO 1+2 SST']\n",
    "\n",
    "fig, ax1 = plt.subplots(figsize=(30,5)) \n",
    "  \n",
    "ax1.set_xlabel('Year') \n",
    "ax1.set_ylabel('Precipitation', color = 'darkcyan') \n",
    "ax1.plot(x, y1, color = 'darkcyan') \n",
    "ax1.tick_params(axis ='y', labelcolor = 'darkcyan') \n",
    "  \n",
    "# Adding Twin Axes\n",
    "\n",
    "ax2 = ax1.twinx() \n",
    "  \n",
    "ax2.set_ylabel('NINO 1+2 SST', color = 'brown') \n",
    "ax2.plot(x, y2, color = 'brown') \n",
    "ax2.tick_params(axis ='y', labelcolor = 'brown')\n",
    "\n",
    "plt.show()"
   ]
  },
  {
   "cell_type": "code",
   "execution_count": null,
   "metadata": {},
   "outputs": [],
   "source": [
    "fig = plt.figure()\n",
    "for\n",
    "plt.figure().add_subplot(13, 1, index=1)\n",
    "plt.plot(enso_df['ONI'])\n",
    "plt.title('ONI', y=0.8, loc='right')\n",
    "\n",
    "plt.figure().add_subplot(13, 1, index=2)\n",
    "plt.plot(enso_df['NINO 1+2 SST'])\n",
    "plt.title('NINO 1+2 SST', y=0.8, loc='right')\n",
    "\n",
    "plt.fig...."
   ]
  },
  {
   "cell_type": "code",
   "execution_count": null,
   "metadata": {},
   "outputs": [],
   "source": [
    "# other variables time series\n",
    "fig = plt.figure(figsize=(15,40))\n",
    "for index, col in enumerate(indicators[:], 1):\n",
    "    fig.add_subplot(14, 1, index)\n",
    "    plt.plot(enso_df[col])\n",
    "    plt.title(col, y=0.8, loc='right')\n",
    "plt.show()"
   ]
  }
 ],
 "metadata": {
  "kernelspec": {
   "display_name": "data-science",
   "language": "python",
   "name": "python3"
  },
  "language_info": {
   "codemirror_mode": {
    "name": "ipython",
    "version": 3
   },
   "file_extension": ".py",
   "mimetype": "text/x-python",
   "name": "python",
   "nbconvert_exporter": "python",
   "pygments_lexer": "ipython3",
   "version": "3.11.0"
  },
  "orig_nbformat": 4
 },
 "nbformat": 4,
 "nbformat_minor": 2
}
