{
 "cells": [
  {
   "attachments": {},
   "cell_type": "markdown",
   "metadata": {},
   "source": [
    "# Week 2 🐍🐍\n",
    "Pada minggu ke-2 ini kita akan mencoba menerapkan yang kita pelajari dalam sebuah projek sederhana.\n",
    "\n",
    "Selama sesi ini kita akan menganalisis sebuah data iklim berformat csv dan mencoba menganalisisnya menggunakan python\n",
    "\n",
    "Projek ini bertujuan untuk mengetahui korelasi antara curah hujan di suatu tempat dengan indeks Enso\n"
   ]
  },
  {
   "attachments": {},
   "cell_type": "markdown",
   "metadata": {},
   "source": [
    "> Pertama, buka vscode terus jelasin cara buka jupiter dan jelasin dikit apa itu jupiter"
   ]
  },
  {
   "attachments": {},
   "cell_type": "markdown",
   "metadata": {},
   "source": [
    "## Data Series dan DataFrame\n",
    "Apa itu series?\n",
    "- series adalah data satu dimensi dengan indeks\n",
    "\n",
    "Apa itu dataframe?\n",
    "- dataframe adalah beberapa series dengan sejumlah kolom dan baris.\n",
    "\n",
    "![dataframe](https://storage.googleapis.com/lds-media/images/series-and-dataframe.width-1200.png)"
   ]
  },
  {
   "attachments": {},
   "cell_type": "markdown",
   "metadata": {},
   "source": [
    "## Data Understanding"
   ]
  },
  {
   "cell_type": "code",
   "execution_count": null,
   "metadata": {},
   "outputs": [],
   "source": [
    "# import libraries"
   ]
  },
  {
   "cell_type": "code",
   "execution_count": null,
   "metadata": {},
   "outputs": [],
   "source": [
    "# membaca data"
   ]
  },
  {
   "cell_type": "code",
   "execution_count": null,
   "metadata": {},
   "outputs": [],
   "source": [
    "# melihat kolom"
   ]
  },
  {
   "cell_type": "code",
   "execution_count": null,
   "metadata": {},
   "outputs": [],
   "source": [
    "# informasi singkat"
   ]
  },
  {
   "cell_type": "code",
   "execution_count": null,
   "metadata": {},
   "outputs": [],
   "source": [
    "# melihat jumlah nan"
   ]
  },
  {
   "attachments": {},
   "cell_type": "markdown",
   "metadata": {},
   "source": [
    "## Data Pre-processing"
   ]
  },
  {
   "cell_type": "code",
   "execution_count": null,
   "metadata": {},
   "outputs": [],
   "source": [
    "# mengubah nama kolom\n"
   ]
  },
  {
   "cell_type": "code",
   "execution_count": null,
   "metadata": {},
   "outputs": [],
   "source": []
  },
  {
   "cell_type": "code",
   "execution_count": null,
   "metadata": {},
   "outputs": [],
   "source": [
    "#melihat deskripsi singkat"
   ]
  },
  {
   "cell_type": "code",
   "execution_count": null,
   "metadata": {},
   "outputs": [],
   "source": [
    "# mengubah tipe data\n",
    "enso_df = enso_df.astype({\n",
    "                'Month': str, \n",
    "                'Season': str, \n",
    "                'ONI': float, \n",
    "                'NINO 1+2 SST': float,\n",
    "                'NINO 1+2 SST Anomalies': float, \n",
    "                'NINO 3 SST': float, \n",
    "                'NINO 3 SST Anomalies': float, \n",
    "                'NINO 3.4 SST': float, \n",
    "                'NINO 3.4 SST Anomalies': float, \n",
    "                'NINO 4 SST': float, \n",
    "                'NINO 4 SST Anomalies': float, \n",
    "                'OLR': float, \n",
    "                'Precipitation' : float,\n",
    "                'TNI': float,\n",
    "             })\n",
    "enso_df.info()"
   ]
  },
  {
   "cell_type": "code",
   "execution_count": null,
   "metadata": {},
   "outputs": [],
   "source": []
  },
  {
   "cell_type": "code",
   "execution_count": null,
   "metadata": {},
   "outputs": [],
   "source": [
    "# mengubah data hujan (daily mean to monthly)"
   ]
  },
  {
   "cell_type": "code",
   "execution_count": null,
   "metadata": {},
   "outputs": [],
   "source": [
    "# menghapus nan\n",
    "# nan di tahun sebelum 1982 dan setelah tahun 2021"
   ]
  },
  {
   "cell_type": "code",
   "execution_count": null,
   "metadata": {},
   "outputs": [],
   "source": [
    "# mencari lokasi nan"
   ]
  },
  {
   "cell_type": "code",
   "execution_count": null,
   "metadata": {},
   "outputs": [],
   "source": [
    "# handling missing values\n",
    "## menghitung rata-rata bulanan\n",
    "\n",
    "\n",
    "# mengisi missing values\n",
    "\n",
    "# jumlah missing values\n"
   ]
  },
  {
   "cell_type": "code",
   "execution_count": null,
   "metadata": {},
   "outputs": [],
   "source": [
    "# mengubah OLR as float"
   ]
  },
  {
   "attachments": {},
   "cell_type": "markdown",
   "metadata": {},
   "source": [
    "## Data Visualization"
   ]
  },
  {
   "cell_type": "code",
   "execution_count": null,
   "metadata": {},
   "outputs": [],
   "source": [
    "# import module"
   ]
  },
  {
   "cell_type": "code",
   "execution_count": null,
   "metadata": {},
   "outputs": [],
   "source": [
    "# membuat list indicator (yang akan digambar)"
   ]
  },
  {
   "cell_type": "code",
   "execution_count": null,
   "metadata": {},
   "outputs": [],
   "source": [
    "# menunjukkan cara membuat template"
   ]
  },
  {
   "cell_type": "code",
   "execution_count": null,
   "metadata": {},
   "outputs": [],
   "source": [
    "# heatmap for correlation analysis"
   ]
  },
  {
   "cell_type": "code",
   "execution_count": null,
   "metadata": {},
   "outputs": [],
   "source": [
    "# set index"
   ]
  },
  {
   "cell_type": "code",
   "execution_count": null,
   "metadata": {},
   "outputs": [],
   "source": [
    "# contoh-contoh menggambar yang lain\n",
    "## menggambar dua sumbu y\n",
    "x = enso_df.index\n",
    "y1 = enso_df.Precipitation\n",
    "y2 = enso_df['NINO 1+2 SST']\n",
    "\n",
    "fig, ax1 = plt.subplots(figsize=(30,5)) \n",
    "  \n",
    "ax1.set_xlabel('Year') \n",
    "ax1.set_ylabel('Precipitation', color = 'darkcyan') \n",
    "ax1.plot(x, y1, color = 'darkcyan') \n",
    "ax1.tick_params(axis ='y', labelcolor = 'darkcyan') \n",
    "  \n",
    "# Adding Twin Axes\n",
    "\n",
    "ax2 = ax1.twinx() \n",
    "  \n",
    "ax2.set_ylabel('NINO 1+2 SST', color = 'brown') \n",
    "ax2.plot(x, y2, color = 'brown') \n",
    "ax2.tick_params(axis ='y', labelcolor = 'brown')\n",
    "\n",
    "plt.show()"
   ]
  },
  {
   "cell_type": "code",
   "execution_count": null,
   "metadata": {},
   "outputs": [],
   "source": [
    "fig = plt.figure()\n",
    "for\n",
    "plt.figure().add_subplot(13, 1, index=1)\n",
    "plt.plot(enso_df['ONI'])\n",
    "plt.title('ONI', y=0.8, loc='right')\n",
    "\n",
    "plt.figure().add_subplot(13, 1, index=2)\n",
    "plt.plot(enso_df['NINO 1+2 SST'])\n",
    "plt.title('NINO 1+2 SST', y=0.8, loc='right')\n",
    "\n",
    "plt.fig...."
   ]
  },
  {
   "cell_type": "code",
   "execution_count": null,
   "metadata": {},
   "outputs": [],
   "source": [
    "# other variables time series\n",
    "fig = plt.figure(figsize=(15,40))\n",
    "for index, col in enumerate(indicators[:], 1):\n",
    "    fig.add_subplot(14, 1, index)\n",
    "    plt.plot(enso_df[col])\n",
    "    plt.title(col, y=0.8, loc='right')\n",
    "plt.show()"
   ]
  }
 ],
 "metadata": {
  "kernelspec": {
   "display_name": "data-science",
   "language": "python",
   "name": "python3"
  },
  "language_info": {
   "codemirror_mode": {
    "name": "ipython",
    "version": 3
   },
   "file_extension": ".py",
   "mimetype": "text/x-python",
   "name": "python",
   "nbconvert_exporter": "python",
   "pygments_lexer": "ipython3",
   "version": "3.11.2"
  },
  "orig_nbformat": 4
 },
 "nbformat": 4,
 "nbformat_minor": 2
}
